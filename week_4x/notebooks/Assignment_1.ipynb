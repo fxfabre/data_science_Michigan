{
 "cells": [
  {
   "cell_type": "markdown",
   "metadata": {},
   "source": [
    "---\n",
    "\n",
    "_You are currently looking at **version 1.1** of this notebook. To download notebooks and datafiles, as well as get help on Jupyter notebooks in the Coursera platform, visit the [Jupyter Notebook FAQ](https://www.coursera.org/learn/python-text-mining/resources/d9pwm) course resource._\n",
    "\n",
    "---"
   ]
  },
  {
   "cell_type": "markdown",
   "metadata": {},
   "source": [
    "# Assignment 1\n",
    "\n",
    "In this assignment, you'll be working with messy medical data and using regex to extract relevant infromation from the data. \n",
    "\n",
    "Each line of the `dates.txt` file corresponds to a medical note. Each note has a date that needs to be extracted, but each date is encoded in one of many formats.\n",
    "\n",
    "The goal of this assignment is to correctly identify all of the different date variants encoded in this dataset and to properly normalize and sort the dates. \n",
    "\n",
    "Here is a list of some of the variants you might encounter in this dataset:\n",
    "* 04/20/2009; 04/20/09; 4/20/09; 4/3/09\n",
    "* Mar-20-2009; Mar 20, 2009; March 20, 2009;  Mar. 20, 2009; Mar 20 2009;\n",
    "* 20 Mar 2009; 20 March 2009; 20 Mar. 2009; 20 March, 2009\n",
    "* Mar 20th, 2009; Mar 21st, 2009; Mar 22nd, 2009\n",
    "* Feb 2009; Sep 2009; Oct 2010\n",
    "* 6/2008; 12/2009\n",
    "* 2009; 2010\n",
    "\n",
    "Once you have extracted these date patterns from the text, the next step is to sort them in ascending chronological order accoring to the following rules:\n",
    "* Assume all dates in xx/xx/xx format are mm/dd/yy\n",
    "* Assume all dates where year is encoded in only two digits are years from the 1900's (e.g. 1/5/89 is January 5th, 1989)\n",
    "* If the day is missing (e.g. 9/2009), assume it is the first day of the month (e.g. September 1, 2009).\n",
    "* If the month is missing (e.g. 2010), assume it is the first of January of that year (e.g. January 1, 2010).\n",
    "* Watch out for potential typos as this is a raw, real-life derived dataset.\n",
    "\n",
    "With these rules in mind, find the correct date in each note and return a pandas Series in chronological order of the original Series' indices.\n",
    "\n",
    "For example if the original series was this:\n",
    "\n",
    "    0    1999\n",
    "    1    2010\n",
    "    2    1978\n",
    "    3    2015\n",
    "    4    1985\n",
    "\n",
    "Your function should return this:\n",
    "\n",
    "    0    2\n",
    "    1    4\n",
    "    2    0\n",
    "    3    1\n",
    "    4    3\n",
    "\n",
    "Your score will be calculated using [Kendall's tau](https://en.wikipedia.org/wiki/Kendall_rank_correlation_coefficient), a correlation measure for ordinal data.\n",
    "\n",
    "*This function should return a Series of length 500 and dtype int.*"
   ]
  },
  {
   "cell_type": "code",
   "execution_count": null,
   "metadata": {},
   "outputs": [],
   "source": [
    "import pandas as pd\n",
    "import re\n",
    "\n",
    "doc = []\n",
    "with open('dates.txt') as file:\n",
    "    for line in file:\n",
    "        doc.append(line)\n",
    "\n",
    "df = pd.Series(doc)\n",
    "df.head(10)"
   ]
  },
  {
   "cell_type": "code",
   "execution_count": null,
   "metadata": {},
   "outputs": [],
   "source": [
    "import re\n",
    "import numpy as np\n",
    "from typing import Dict\n",
    "\n",
    "months = [\n",
    "    \"Jan([ua]{2}ry)?\",\n",
    "    \"Feb(ruary)?\", \"Mar(?:ch)?\", \"Apr(?:il)?\",\n",
    "    \"May\", \"Jun(?:e)?\", \"July?\", \"Aug(ust)?\",\n",
    "    \"Sep(?:tember)?\", \"Oct(?:ober)?\", \"Nov(?:eme?ber)?\", \"Dec(?:eme?ber)?\"\n",
    "]\n",
    "\n",
    "regexs_str = [\n",
    "    (r'(?P<month>[01]?\\d)/(?P<day>[0123]?\\d)/(?P<year>\\d{4}|\\d{2})', {}),\n",
    "    (r'(?P<month>[01]?\\d)-(?P<day>[0123]?\\d)-(?P<year>\\d{4}|\\d{2})', {}),\n",
    "    (r'(?P<month>[01]\\d)(?P<day>[0123]\\d)(?P<year>\\d{4}|\\d{2})', {}),\n",
    "    (r'(?P<month>[01]?\\d)/(?P<year>\\d{4}|\\d{2})', {\"day\": 1}),\n",
    "] + [\n",
    "    (f\"(({month})\\W? (?P<day>[0123]\\d)\\W? (?P<year>\\d\\d(\\d\\d)?))\", {\"month\": month_num})\n",
    "    for month_num, month in enumerate(months, 1)\n",
    "] + [\n",
    "    (f\"(?P<day>[0123]?\\d) ({month}) (?P<year>\\d\\d(\\d\\d)?)\", {\"month\": month_num})\n",
    "    for month_num, month in enumerate(months, 1)\n",
    "] + [\n",
    "    (f\"({month})\\W? (?P<year>\\d\\d(\\d\\d)?)\", {\"day\": 1, \"month\": month_num})\n",
    "    for month_num, month in enumerate(months, 1)\n",
    "] + [\n",
    "    (\"(?P<year>\\d{4})\", {\"day\": 1, \"month\": 1})\n",
    "]\n",
    "regexs = [\n",
    "    (re.compile(regex, re.IGNORECASE), date_default)\n",
    "    for (regex, date_default) in regexs_str\n",
    "]"
   ]
  },
  {
   "cell_type": "code",
   "execution_count": null,
   "metadata": {},
   "outputs": [],
   "source": [
    "def parse_date(s: str) -> Dict[str, int]:\n",
    "    for regex, date_default in regexs:\n",
    "        match = regex.search(s)\n",
    "        if not match:\n",
    "            continue\n",
    "\n",
    "        date_infos = dict(date_default)\n",
    "        date_infos.update(match.groupdict())\n",
    "        date_infos = {\n",
    "            k: int(date_infos.get(k, 1))\n",
    "            for k in [\"day\", \"month\", \"year\"]\n",
    "            if isinstance(date_infos.get(k, \"\"), int) or date_infos.get(k, \"\").isdigit()\n",
    "        }\n",
    "        if date_infos[\"year\"] < 100:\n",
    "            date_infos[\"year\"] += 1900\n",
    "\n",
    "        if (date_infos[\"day\"] > 31) or (date_infos[\"month\"] > 12):\n",
    "            continue\n",
    "\n",
    "        return date_infos\n",
    "\n",
    "    return {'day': np.nan, 'month': np.nan, 'year': np.nan}\n",
    "\n",
    "\n",
    "def parse_date_str_to_int(s: str) -> int:\n",
    "    date_info = parse_date(s)\n",
    "    return date_info[\"year\"] * 10000 + date_info[\"month\"] * 100 + date_info[\"day\"]"
   ]
  },
  {
   "cell_type": "code",
   "execution_count": null,
   "metadata": {},
   "outputs": [],
   "source": [
    "def date_sorter():\n",
    "    return df.map(parse_date_str_to_int).sort_values().reset_index()[\"index\"]\n",
    "\n",
    "date_sorter()"
   ]
  },
  {
   "cell_type": "code",
   "execution_count": null,
   "metadata": {},
   "outputs": [],
   "source": []
  }
 ],
 "metadata": {
  "coursera": {
   "course_slug": "python-text-mining",
   "graded_item_id": "LvcWI",
   "launcher_item_id": "krne9",
   "part_id": "Mkp1I"
  },
  "kernelspec": {
   "display_name": "Python 3",
   "language": "python",
   "name": "python3"
  },
  "language_info": {
   "codemirror_mode": {
    "name": "ipython",
    "version": 3
   },
   "file_extension": ".py",
   "mimetype": "text/x-python",
   "name": "python",
   "nbconvert_exporter": "python",
   "pygments_lexer": "ipython3",
   "version": "3.6.9"
  }
 },
 "nbformat": 4,
 "nbformat_minor": 4
}
