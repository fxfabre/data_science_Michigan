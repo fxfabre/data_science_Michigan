{
 "cells": [
  {
   "cell_type": "code",
   "execution_count": null,
   "metadata": {},
   "outputs": [],
   "source": [
    "import pandas as pd\n",
    "import re\n",
    "\n",
    "doc = []\n",
    "with open('dates.txt') as file:\n",
    "    for line in file:\n",
    "        doc.append(line)\n",
    "\n",
    "df = pd.Series(doc)\n",
    "df.head(5)"
   ]
  },
  {
   "cell_type": "code",
   "execution_count": null,
   "metadata": {},
   "outputs": [],
   "source": [
    "months = [\n",
    "    \"Jan([ua]{2}ry)?\", \"Feb(ruary)?\", \"Mar(?:ch)?\", \"Apr(?:il)?\",\n",
    "    \"May\", \"Jun(?:e)?\", \"July?\", \"Aug(ust)?\",\n",
    "    \"Sep(?:tember)?\", \"Oct(?:ober)?\", \"Nov(?:eme?ber)?\", \"Dec(?:eme?ber)?\"\n",
    "]\n",
    "\n",
    "regexs = [\n",
    "    (r'(?P<month>[01]?\\d)/(?P<day>[0123]?\\d)/(?P<year>\\d{2}|\\d{4})', {}),\n",
    "    (r'(?P<month>[01]?\\d)-(?P<day>[0123]?\\d)-(?P<year>\\d{2}|\\d{4})', {}),\n",
    "    (r'(?P<month>[01]\\d)(?P<day>[0123]\\d)(?P<year>\\d{2}|\\d{4})', {}),\n",
    "    (r'(?P<month>[01]?\\d)/(?P<year>\\d{2}|\\d{4})', {\"day\": 1}),\n",
    "] + [\n",
    "    (f\"(?P<day>[0123]\\d) ({month}) (?P<year>\\d\\d(\\d\\d)?)\", {\"month\": month_num})\n",
    "    for month, month_num in enumerate(months, 1)\n",
    "] + [\n",
    "    (f\"(({month})\\W? (?P<day>[0123]\\d)\\W? (?P<year>\\d\\d(\\d\\d)?))\", {\"month\": month_num})\n",
    "    for month, month_num in enumerate(months, 1)\n",
    "] + [\n",
    "    (f\"({month})\\W? (?P<year>\\d\\d(\\d\\d)?)\", {\"month\": month_num})\n",
    "    for month, month_num in enumerate(months, 1)\n",
    "] + [\n",
    "    (\"(?P<year>\\d{4})\", {\"day\": 1, \"month\": 1})\n",
    "]\n",
    "regexs = [(re.compile(regex, re.IGNORECASE), additional_info) for (regex, additional_info) in regexs]"
   ]
  },
  {
   "cell_type": "code",
   "execution_count": null,
   "metadata": {},
   "outputs": [],
   "source": [
    "def parse_str(s: str):\n",
    "    for regex, add_info in regexs:\n",
    "        match = regex.search(s)\n",
    "    \n",
    "    #return [12, s, \"lala\"]\n",
    "    return {\"a\": 12, \"b\": s, \"c\": \"lala\"}\n",
    "\n",
    "for regex, add_info in regexs:\n",
    "    match = regex.search(text_string)\n",
    "    if match:\n",
    "        break\n",
    "\n",
    "\n",
    "        \n",
    "#x = df.head().map(parse_str)\n",
    "#pd.DataFrame.from_records(list(x))"
   ]
  },
  {
   "cell_type": "code",
   "execution_count": null,
   "metadata": {},
   "outputs": [],
   "source": [
    "mdy = df.str.extractall(r'(?P<date>(?P<month>[01]?\\d)[/-]?(?P<day>[0123]?\\d)[/-](?P<year>\\d{2}|\\d{4}))')\n",
    "mdy = mdy[mdy.date.str.match(\"|\".join(regexs))]\n",
    "mdy.head(5)"
   ]
  },
  {
   "cell_type": "code",
   "execution_count": null,
   "metadata": {},
   "outputs": [],
   "source": [
    "months = \"(\" + \"|\".join([\n",
    "    \"Jan(?:[ua]{2}ry)?\", #aury\n",
    "    \"Feb(?:ruary)?\", \"Mar(?:ch)?\", \"Apr(?:il)?\",\n",
    "    \"May\", \"Jun(?:e)?\", \"Jul(?:y)?\", \"Aug(?:ust)?\",\n",
    "    \"Sep(?:tember)?\", \"Oct(?:ober)?\", \"(Nov|Dec)(?:eme?ber)?\"\n",
    "]) + \")\"\n",
    "\n",
    "regexs = [\n",
    "    r'((?:[01]?\\d)/([0123]?\\d)/(\\d{2}|\\d{4}))',\n",
    "    r'((?:[01]?\\d)/(\\d{2}|\\d{4}))',\n",
    "    r'((?:[01]?\\d)-([0123]?\\d)-(\\d{2}|\\d{4}))',\n",
    "    r'((?:[01]\\d)([0123]\\d)(\\d{2}|\\d{4}))',\n",
    "    f\"((?:[0123]\\d) {months} (\\d\\d(\\d\\d)?))\",\n",
    "    f\"({months}\\W? ([0123]\\d)\\W? (\\d\\d(\\d\\d)?))\",\n",
    "    f\"({months}\\W? (\\d\\d(\\d\\d)?))\",\n",
    "    \"(\\d{4})\"\n",
    "]\n",
    "test_string = \"vent in Decemeber 1978\"\n",
    "\n",
    "regex_str = \"|\".join(regexs)\n",
    "regex = f\"(?P<date>{regex_str})\"\n",
    "print(regex_str)\n",
    "\n",
    "print(re.compile(regex, re.IGNORECASE).search(test_string))\n",
    "\n",
    "mdy = df.str.extractall(regex)[[\"date\"]]\n",
    "mdy.tail()"
   ]
  },
  {
   "cell_type": "code",
   "execution_count": null,
   "metadata": {},
   "outputs": [],
   "source": [
    "missing_row = list(set(range(df.shape[0])) - {x for (x, y) in mdy.index})\n",
    "print(\"missing :\", missing_row)\n",
    "for i in missing_row:\n",
    "    print(df.iloc[i])"
   ]
  },
  {
   "cell_type": "code",
   "execution_count": null,
   "metadata": {},
   "outputs": [],
   "source": [
    "duplicated_row = {x for (x, y) in mdy.index if y > 0}\n",
    "print()\n",
    "print()\n",
    "print(\"duplicated :\", duplicated_row)\n",
    "for i in duplicated_row:\n",
    "    print(i, df.iloc[i])\n",
    "\n",
    "\n",
    "print()\n",
    "print()\n",
    "print(\"duplicated rows\")\n",
    "for idx, row in mdy.T.iteritems():\n",
    "    if idx[0] in duplicated_row:\n",
    "        print(row)"
   ]
  },
  {
   "cell_type": "code",
   "execution_count": null,
   "metadata": {},
   "outputs": [],
   "source": []
  }
 ],
 "metadata": {
  "kernelspec": {
   "display_name": "Python 3",
   "language": "python",
   "name": "python3"
  },
  "language_info": {
   "codemirror_mode": {
    "name": "ipython",
    "version": 3
   },
   "file_extension": ".py",
   "mimetype": "text/x-python",
   "name": "python",
   "nbconvert_exporter": "python",
   "pygments_lexer": "ipython3",
   "version": "3.6.9"
  }
 },
 "nbformat": 4,
 "nbformat_minor": 4
}
